{
  "nbformat": 4,
  "nbformat_minor": 0,
  "metadata": {
    "colab": {
      "name": "Untitled0.ipynb",
      "provenance": [],
      "collapsed_sections": [],
      "authorship_tag": "ABX9TyOP8fv94tIa/7PGKnZzOhVQ",
      "include_colab_link": true
    },
    "kernelspec": {
      "name": "python3",
      "display_name": "Python 3"
    },
    "language_info": {
      "name": "python"
    }
  },
  "cells": [
    {
      "cell_type": "markdown",
      "metadata": {
        "id": "view-in-github",
        "colab_type": "text"
      },
      "source": [
        "<a href=\"https://colab.research.google.com/github/Anael1901/LasActividadesVanAqui/blob/main/Untitled0.ipynb\" target=\"_parent\"><img src=\"https://colab.research.google.com/assets/colab-badge.svg\" alt=\"Open In Colab\"/></a>"
      ]
    },
    {
      "cell_type": "markdown",
      "source": [
        "A2:Ejercicios Básicos en Python, Anael Ernesto Lopez Aguilar, 1991884, N1"
      ],
      "metadata": {
        "id": "XOcj5hPk9E28"
      }
    },
    {
      "cell_type": "code",
      "execution_count": 4,
      "metadata": {
        "colab": {
          "base_uri": "https://localhost:8080/"
        },
        "id": "sBEQ_k0o8Z_W",
        "outputId": "5e8c799d-14d0-4eef-a581-5be317dd6c83"
      },
      "outputs": [
        {
          "output_type": "stream",
          "name": "stdout",
          "text": [
            "¿Cual es su nombre? lol\n",
            "hola lol\n"
          ]
        }
      ],
      "source": [
        "saludo = input(\"¿Cual es su nombre? \") #variable para el nombre\n",
        "if saludo == \"Ana\": #primer if para eliminar los nombres no deseados\n",
        "   print(\"adios\")\n",
        "elif saludo == \"Juan\":\n",
        "    print(\"adios\")\n",
        "elif saludo == \"Pedro\":\n",
        "    print(\"adios\")\n",
        "elif saludo == \"juan\":\n",
        "    print(\"adios\")\n",
        "elif saludo == \"pedro\":\n",
        "    print(\"adios\")\n",
        "elif saludo == \"ana\":\n",
        "    print(\"adios\")\n",
        "else: #para saludar cualquier otro nombre \n",
        "      print(\"hola\", saludo) #saludo\n",
        "      "
      ]
    },
    {
      "cell_type": "code",
      "source": [
        "\n",
        "def lista (lis): #PREPARAMOS LA FUNCION\n",
        "  print (lis[-1]) #EL ULTIMO ELEMENTO\n",
        "  print (lis[::-1]) #USAMOS LA REGLA DE RANGOS PARA INVERTIR PONIENDOLO EN ORDEN [INICIO,FIN,DE -1 EN -1]\n",
        "    "
      ],
      "metadata": {
        "id": "TDtf-faRBZrO"
      },
      "execution_count": null,
      "outputs": []
    },
    {
      "cell_type": "code",
      "source": [
        "listilla = [\"ana\",\"valeria\",\"evelyn\",\"juan\",\"pedro\",\"roberto\"] #AQUI VA LA LISTA\n",
        "lista(listilla) #USAMOS LA FUNCION\n"
      ],
      "metadata": {
        "colab": {
          "base_uri": "https://localhost:8080/"
        },
        "id": "8m9aYjvc8kza",
        "outputId": "94f133f1-40c4-48f2-e19c-c4ebd1533f84"
      },
      "execution_count": null,
      "outputs": [
        {
          "output_type": "stream",
          "name": "stdout",
          "text": [
            "roberto\n",
            "['roberto', 'pedro', 'juan', 'evelyn', 'valeria', 'ana']\n"
          ]
        }
      ]
    },
    {
      "cell_type": "code",
      "source": [
        "def marco (letras): #preparamos funcion\n",
        "  x = len(letras) #sacamos el numero de elementos para usarlo en el while\n",
        "  i = 0\n",
        "  while i<x:\n",
        "    print(letras[i])#imprimimos cada posicion posible de i hasta llegar a x\n",
        "    i+=1\n",
        "   "
      ],
      "metadata": {
        "id": "HYiHR_58Sw8q"
      },
      "execution_count": null,
      "outputs": []
    },
    {
      "cell_type": "code",
      "source": [
        "letrero = [\"hola\",\"a\",\"todos\",\"esto\",\"es\",\"un\",\"marco\"]\n",
        "marco(letrero)"
      ],
      "metadata": {
        "colab": {
          "base_uri": "https://localhost:8080/"
        },
        "id": "_slbhmypUkak",
        "outputId": "698ff520-6d40-4dda-aa0a-616bb10c5d09"
      },
      "execution_count": null,
      "outputs": [
        {
          "output_type": "stream",
          "name": "stdout",
          "text": [
            "hola\n",
            "a\n",
            "todos\n",
            "esto\n",
            "es\n",
            "un\n",
            "marco\n"
          ]
        }
      ]
    }
  ]
}